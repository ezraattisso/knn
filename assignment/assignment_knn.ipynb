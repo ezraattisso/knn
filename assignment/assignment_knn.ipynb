{
  "cells": [
    {
      "cell_type": "markdown",
      "id": "f7ef20f0-722f-4240-8a79-437d4a3b8832",
      "metadata": {
        "id": "f7ef20f0-722f-4240-8a79-437d4a3b8832"
      },
      "source": [
        "## Assignment 3: $k$ Nearest Neighbor\n",
        "\n",
        "**Do two questions.**\n",
        "\n",
        "`! git clone https://github.com/ds4e/knn`"
      ]
    },
    {
      "cell_type": "markdown",
      "source": [],
      "metadata": {
        "id": "UYfJUxqyucBi"
      },
      "id": "UYfJUxqyucBi"
    },
    {
      "cell_type": "markdown",
      "id": "5d9212c0",
      "metadata": {
        "id": "5d9212c0"
      },
      "source": [
        "**Q0.**\n",
        "1. What is the difference between regression and classification?\n",
        "2. What is a confusion table? What does it help us understand about a model's performance?\n",
        "3. What does the SSE quantify about a particular model?\n",
        "4. What are overfitting and underfitting?\n",
        "5. Why does splitting the data into training and testing sets, and choosing $k$ by evaluating accuracy or SSE on the test set, improve model performance?\n",
        "6. With classification, we can report a class label as a prediction or a probability distribution over class labels. Please explain the strengths and weaknesses of each approach."
      ]
    },
    {
      "cell_type": "markdown",
      "source": [
        "**Q0 Answer**\n",
        "\n",
        "1. Regression helps predict actual numbers like house prices or someone's age, while classification sorts things into specific groups like \"spam\" or \"not spam.\" With regression, you're trying to figure out \"how much\" or \"how many,\" but classification is all about deciding \"which category\" something belongs to. You can think of regression as predicting a point on a line - like exactly how tall someone is - while classification is more about putting things in different boxes - like deciding if they're tall, medium, or short.\n",
        "\n",
        "2. A confusion table shows how well a classification model is doing by displaying predicted labels versus actual labels in a handy grid format. It helps us see not just overall accuracy, but also where our model messes up - like if it's confusing one class for another or making specific types of errors. You can calculate cool metrics from it like precision (how many positive predictions were actually positive), recall (how many actual positives did you catch), and F1-score which is a balance between precision and recall.\n",
        "\n",
        "3. SSE, or Sum of Squared Errors, measures how far off your model's predictions are from the actual values by adding up all the squared differences. It basically tells you how much your model is missing the mark - the smaller the SSE, the better your model is fitting the data.\n",
        "\n",
        "4. Overfitting happens when your model gets too obsessed with the training data and learns all its quirks and noise, making it perform poorly on new data. Underfitting is the opposite where the model is too simple and doesn't capture important patterns in the data, basically missing the point entirely.\n",
        "\n",
        "5. Splitting your data lets you see how your model performs on new information it hasn't \"seen\" before, which is what actually matters in real life. By trying different k values and checking the accuracy or SSE on test data, you're finding the sweet spot where your model isn't too simple or too complex.\n",
        "\n",
        "6. Predicting a class label is simple and easy to interpret, but it doesn’t tell you how confident the model is, which can be risky if mistakes are costly. On the other hand, giving a probability distribution provides more insight into uncertainty, helping with decision-making like setting confidence thresholds, but it can be harder for non-technical people to use directly. The trade-off is between clarity and flexibility—labels are straightforward, while probabilities let you weigh risks and adjust accordingly.\n",
        "\n",
        "\n",
        "\n",
        "\n",
        "\n",
        "\n"
      ],
      "metadata": {
        "id": "8yo1a2COt4pT"
      },
      "id": "8yo1a2COt4pT"
    },
    {
      "cell_type": "markdown",
      "id": "194455fa",
      "metadata": {
        "id": "194455fa"
      },
      "source": [
        "**Q1.** This question is a case study for $k$ nearest neighbor regression, using the `USA_cars_datasets.csv` data.\n",
        "\n",
        "The target variable `y` is `price` and the features are `year` and `mileage`.\n",
        "\n",
        "1. Load the `./data/USA_cars_datasets.csv`. Keep the following variables and drop the rest: `price`, `year`, `mileage`. Are there any `NA`'s to handle? Look at the head and dimensions of the data.\n",
        "2. Maxmin normalize `year` and `mileage`.\n",
        "3. Split the sample into ~80% for training and ~20% for evaluation.\n",
        "4. Use the $k$NN algorithm and the training data to predict `price` using `year` and `mileage` for the test set for $k=3,10,25,50,100,300$. For each value of $k$, compute the mean squared error and print a scatterplot showing the test value plotted against the predicted value. What patterns do you notice as you increase $k$?\n",
        "5. Determine the optimal $k$ for these data.\n",
        "6. Describe what happened in the plots of predicted versus actual prices as $k$ varied, taking your answer into part 6 into account. (Hint: Use the words \"underfitting\" and \"overfitting\".)"
      ]
    },
    {
      "cell_type": "code",
      "source": [
        "import pandas as pd\n",
        "import numpy as np\n",
        "import matplotlib.pyplot as plt\n",
        "import seaborn as sns\n",
        "from sklearn.neighbors import KNeighborsRegressor\n",
        "from sklearn.model_selection import train_test_split\n",
        "from sklearn.metrics import mean_squared_error\n",
        "\n",
        "## Q1.1\n",
        "\n",
        "url = 'https://raw.githubusercontent.com/ds4e/knn/main/data/USA_cars_datasets.csv'\n",
        "cars_df = pd.read_csv(url)\n",
        "\n",
        "cars_df.head()\n",
        "\n",
        "cars_df.describe()\n",
        "\n",
        "## Q1.2\n",
        "\n",
        "cars_df['year'] = (cars_df['year'] - cars_df['year'].min()) / (cars_df['year'].max() - cars_df['year'].min())\n",
        "cars_df['mileage'] = (cars_df['mileage'] - cars_df['mileage'].min()) / (cars_df['mileage'].max() - cars_df['mileage'].min())\n",
        "\n",
        "\n",
        "\n",
        "## Q1.3\n",
        "\n",
        "# Define features (X) and target variable (y)\n",
        "X = cars_df[['year', 'mileage']]  # Features\n",
        "y = cars_df['price']  # Target variable\n",
        "\n",
        "# Split the data (80% training, 20% testing)\n",
        "X_train, X_test, y_train, y_test = train_test_split(X, y, test_size=0.2, random_state=42)\n",
        "\n",
        "# Check the sizes of the splits\n",
        "print(X_train.shape, X_test.shape)\n",
        "print(y_train.shape, y_test.shape)\n",
        "\n",
        "\n",
        "## Q1.4\n",
        "k_values = [3, 10, 25, 50, 100, 300]\n",
        "\n",
        "# Store MSE results\n",
        "mse_results = {}\n",
        "\n",
        "# Loop through each k, train the model, predict, and compute MSE\n",
        "for k in k_values:\n",
        "    # Initialize kNN model\n",
        "    knn = KNeighborsRegressor(n_neighbors=k)\n",
        "\n",
        "    # Train the model\n",
        "    knn.fit(X_train, y_train)\n",
        "\n",
        "    # Predict on test set\n",
        "    y_pred = knn.predict(X_test)\n",
        "\n",
        "    # Compute Mean Squared Error (MSE)\n",
        "    mse = mean_squared_error(y_test, y_pred)\n",
        "    mse_results[k] = mse\n",
        "\n",
        "    # Scatterplot of actual vs predicted values\n",
        "    plt.figure(figsize=(6, 4))\n",
        "    plt.scatter(y_test, y_pred, alpha=0.5, label=f'k={k}')\n",
        "    plt.plot([y_test.min(), y_test.max()], [y_test.min(), y_test.max()], 'r--')  # Diagonal reference line\n",
        "    plt.xlabel(\"Actual Price\")\n",
        "    plt.ylabel(\"Predicted Price\")\n",
        "    plt.title(f\"kNN Regression (k={k})\")\n",
        "    plt.legend()\n",
        "    plt.show()\n",
        "\n",
        "# Print MSE results\n",
        "for k, mse in mse_results.items():\n",
        "    print(f'k={k}: MSE = {mse:.2f}')\n",
        "\n",
        "\n",
        "## Q1.5\n",
        "\n",
        "k_values = list(range(1, 301, 5))  # Test k from 1 to 300 in steps of 5\n",
        "\n",
        "# Store MSE results\n",
        "mse_results = []\n",
        "\n",
        "# Loop through different k values\n",
        "for k in k_values:\n",
        "    knn = KNeighborsRegressor(n_neighbors=k)\n",
        "    knn.fit(X_train, y_train)  # Train model\n",
        "    y_pred = knn.predict(X_test)  # Predict on test set\n",
        "    mse = mean_squared_error(y_test, y_pred)  # Compute MSE\n",
        "    mse_results.append(mse)  # Store MSE\n",
        "\n",
        "# Find the optimal k (the one with the lowest MSE)\n",
        "optimal_k = k_values[np.argmin(mse_results)]\n",
        "optimal_mse = min(mse_results)\n",
        "\n",
        "print(f'Optimal k: {optimal_k}, Minimum MSE: {optimal_mse:.2f}')\n",
        "\n",
        "## Q1.6\n",
        "\n",
        "# Data was incredibly underfitting.\n",
        "\n",
        "\n",
        "\n"
      ],
      "metadata": {
        "id": "Yr4D-vIGxvk5"
      },
      "id": "Yr4D-vIGxvk5",
      "execution_count": null,
      "outputs": []
    },
    {
      "cell_type": "markdown",
      "id": "287b8586",
      "metadata": {
        "id": "287b8586"
      },
      "source": [
        "**Q2.** This is a case study on $k$ nearest neighbor classification, using the `animals.csv` data.\n",
        "\n",
        "The data consist of a label, `class`, taking integer values 1 to 7, the name of the species, `animal`, and 16 characteristics of the animal, including `hair`, `feathers`, `milk`, `eggs`, `airborne`, and so on.\n",
        "\n",
        "1. Load the data. For each of the seven class labels, print the values in the class and get a sense of what is included in that group. Perform some other EDA: How big are the classes? How much variation is there in each of the features/covariates? Which variables do you think will best predict which class?\n",
        "2. Split the data 50/50 into training and test/validation sets. (The smaller the data are, the more equal the split should be, in my experience: Otherwise, all of the members of one class end up in the training or test data, and the model falls apart.)\n",
        "3. Using all of the variables, build a $k$-NN classifier. Explain how you select $k$.\n",
        "4. Print a confusion table for the optimal model, comparing predicted and actual class label on the test set. How accurate it is? Can you interpret why mistakes are made across groups?\n",
        "5. Use only `milk`, `aquatic`, and `airborne` to train a new $k$-NN classifier. Print your confusion table. Mine does not predict all of the classes, only a subset of them. To see the underlying probabilities, use `model.predict_proba(X_test.values)` to predict probabilities rather than labels for your `X_test` test data for your fitted `model`. Are all of the classes represented? Explain your results."
      ]
    },
    {
      "cell_type": "markdown",
      "id": "c008c35c",
      "metadata": {
        "id": "c008c35c"
      },
      "source": [
        "**Q3.** This question is a case study for $k$ nearest neighbor regression, using the `cars_env.csv` data.\n",
        "\n",
        "The variables that go into the model are one more dimension to think about: We can use the train-test split approach to pick the variables that go into the model, not just the number of neighbors.\n",
        "\n",
        "1. Load the data. We're going to use `footprint`, `baseline mpg`, `baseline price`, and `baseline sales`. Prepare some EDA results for these variables: describe tables, histograms/kernel density plots, scatterplots, etc. I renamed these variables to `footprint`, `mpg`, `price`, and `sales` to save time.\n",
        "2. Maxmin normalize `footprint`, `mpg`, and `price`. These will be our features/covariates $X$. Our target/dependent/outcome variable $y$ will be sales. Does it make sense to normalize $y$?\n",
        "3. Make a 30% train-test split of the data into 30% test/validation data and 70% training data.\n",
        "4. Using all three covariates --- `footprint`, `mpg`, and `price` --- what's the best $k$ to use? What SSE is achieved on the test set? To answer these questions, evalute the sum of squared error on the test set for a reasonable range of values of $k$ (perhaps 2 to 150), and find the $k$ with the lowest SSE.\n",
        "5. Do part 4 again, for each pair of variables: `footprint` and `mpg`, `footprint` and `price`, `mpg` and `price`.\n",
        "6. Which set of variables from parts 4 and 5 does the best, in terms of minimizing SSE at the optimal choice of neighbors? Explain."
      ]
    },
    {
      "cell_type": "markdown",
      "id": "6a0ff5e3",
      "metadata": {
        "id": "6a0ff5e3"
      },
      "source": [
        "**Q4.** This is a case study on $k$ nearest neighbor classification, using the `land_mines.csv` data.\n",
        "\n",
        "The data consists of a label, `mine_type`, taking integer values 1 to 5, and three properties of the mine, `voltage`, `height` and `soil`. We want to predict the kind of mine from data about it. Imagine working for the DOD or a humanitarian aid agency, trying to help people remove land mines more safely.\n",
        "\n",
        "1. Load the data. Perform some EDA, summarizing the target label and the features.\n",
        "2. Split the sample 50/50 into training and test/validation sets. (The smaller the data are, the more equal the split should be, in my experience: Otherwise, all of the members of one class end up in the training or test data, and the model falls apart.)\n",
        "3. Build a $k$-NN classifier. Explain how you select $k$.\n",
        "4. Print a confusion table for the optimal model, comparing predicted and actual class label on the test set. How accurate is it? Where is performance more or less accurate?\n",
        "5. Notice that you can have a lot of accurate predictions for a given type of mine, but still make a lot of mistakes. Please explain how you'd advise someone to actually use this predictive model in practice, given the errors that it tends to make."
      ]
    },
    {
      "cell_type": "markdown",
      "id": "010b57f7-bf4f-4494-b54c-49c4f3ae3ab9",
      "metadata": {
        "id": "010b57f7-bf4f-4494-b54c-49c4f3ae3ab9"
      },
      "source": [
        "**Q5.** This question is a case study for $k$ nearest neighbor regression, using the `heart_failure_clinical_records_dataset.csv` data.\n",
        "\n",
        "The data for the question include:\n",
        "\n",
        "- age: age of the patient (years)\n",
        "- anaemia: decrease of red blood cells or hemoglobin (boolean)\n",
        "- high blood pressure: if the patient has hypertension (boolean)\n",
        "- creatinine phosphokinase (CPK): level of the CPK enzyme in the blood (mcg/L)\n",
        "- diabetes: if the patient has diabetes (boolean)\n",
        "- ejection fraction: percentage of blood leaving the heart at each contraction (percentage)\n",
        "- platelets: platelets in the blood (kiloplatelets/mL)\n",
        "- sex: woman or man (binary)\n",
        "- serum creatinine: level of serum creatinine in the blood (mg/dL)\n",
        "- serum sodium: level of serum sodium in the blood (mEq/L)\n",
        "- smoking: if the patient smokes or not (boolean)\n",
        "- time: follow-up period (days)\n",
        "- death event: if the patient deceased during the follow-up period (boolean)\n",
        "\n",
        "1. Load the `./data/heart_failure_clinical_records_dataset.csv`. Are there any `NA`'s to handle? use `.drop()` to remove `time` from the dataframe.\n",
        "2. Make a correlation matrix. What variables are strongly associated with a death event?\n",
        "3. For the dummy variables `anaemia`, `diabetes`, `high_blood_pressure`, `sex`, and `smoking`, compute a summary table of `DEATH_EVENT` grouped by the variable. For which variables does a higher proportion of the population die when the variable takes the value 1 rather than 0?\n",
        "4. On the basis of your answers from 2 and 3, build a matrix $X$ of the variables you think are most predictive of a death, and a variable $y$ equal to `DEATH_EVENT`.\n",
        "5. Maxmin normalize all of the variables in `X`.\n",
        "6. Split the sample into ~80% for training and ~20% for evaluation. (Try to use the same train/test split for the whole question, so that you're comparing apples to apples in the questions below.).\n",
        "7. Determine the optimal number of neighbors for a $k$NN regression for the variables you selected.\n",
        "8. OK, do steps 5 through 7 again, but use all of the variables (except `time`). Which model has a lower Sum of Squared Error? Which would you prefer to use in practice, if you had to predict `DEATH_EVENT`s? If you play with the selection of variables, how much does the SSE change for your fitted model on the test data? Are more variables always better? Explain your findings."
      ]
    },
    {
      "cell_type": "markdown",
      "id": "8d193de6",
      "metadata": {
        "vscode": {
          "languageId": "plaintext"
        },
        "id": "8d193de6"
      },
      "source": [
        "**Q6.** This is a case study on $k$ nearest neighbor regression and imputation, using the `airbnb_hw.csv` data.\n",
        "\n",
        "There are 30,478 observations, but only 22,155 ratings. We're going to build a kNN regressor to impute missing values. This is a common task, and illustrates one way you can use kNN in the future even when you have more advanced models available.\n",
        "\n",
        "1. Load the `airbnb_hw.csv` data with Pandas. We're only going to use `Review Scores Rating`, `Price`, and `Beds`, so use `.loc` to reduce the dataframe to those variables.\n",
        "2. Set use `.isnull()` to select the subset of the dataframe with missing review values. Set those aside in a different dataframe. We'll make predictions about them later.\n",
        "3. Use `df = df.dropna(axis = 0, how = 'any')` to eliminate any observations with missing values/NA's from the dataframe.\n",
        "4. For the complete cases, create a $k$-NN model that uses the variables `Price` and `Beds` to predict `Review Scores Rating`. How do you choose $k$? (Hint: Train/test split, iterate over reasonable values of $k$ and find a value that minimizes SSE on the test split using predictions from the training set.)\n",
        "5. Predict the missing ratings.\n",
        "6. Do a kernel density plot of the training ratings and the predicted missing ratings. Do they look similar or not? Explain why."
      ]
    }
  ],
  "metadata": {
    "kernelspec": {
      "display_name": "Python 3 (ipykernel)",
      "language": "python",
      "name": "python3"
    },
    "language_info": {
      "codemirror_mode": {
        "name": "ipython",
        "version": 3
      },
      "file_extension": ".py",
      "mimetype": "text/x-python",
      "name": "python",
      "nbconvert_exporter": "python",
      "pygments_lexer": "ipython3",
      "version": "3.10.4"
    },
    "colab": {
      "provenance": []
    }
  },
  "nbformat": 4,
  "nbformat_minor": 5
}